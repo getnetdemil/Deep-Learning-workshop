{
  "nbformat": 4,
  "nbformat_minor": 0,
  "metadata": {
    "colab": {
      "provenance": [],
      "include_colab_link": true
    },
    "kernelspec": {
      "name": "python3",
      "display_name": "Python 3"
    },
    "accelerator": "GPU"
  },
  "cells": [
    {
      "cell_type": "markdown",
      "metadata": {
        "id": "view-in-github",
        "colab_type": "text"
      },
      "source": [
        "<a href=\"https://colab.research.google.com/github/getnetdemil/Deep-Learning-workshop/blob/master/Getnet_Demil_1_Image_Classification_%5Bcloze%5D.ipynb\" target=\"_parent\"><img src=\"https://colab.research.google.com/assets/colab-badge.svg\" alt=\"Open In Colab\"/></a>"
      ]
    },
    {
      "cell_type": "markdown",
      "metadata": {
        "id": "GtiQjkq8PnI6"
      },
      "source": [
        "# MNIST Classification with PyTorch\n",
        "\n",
        "\n",
        "[Eric Arazo](https://ericarazo.github.io/) \\(lab credit to [Kevin McGuinness](http://www.eeng.dcu.ie/~mcguinne/)\\), School of Electronic Engineering, Dublin City University\n",
        "\n",
        "\n",
        "[Insight Centre for Data Analytics](https://www.insight-centre.org/)\n",
        "\n",
        "---\n",
        "\n",
        "In the following lab we will learn how to use the [PyTorch](https://pytorch.org/) deep learning framework to create and train a simple deep learning model for handwritten digit classification. We will also learn about data loaders and datasets in PyTorch and how to track model training progress.\n"
      ]
    },
    {
      "cell_type": "markdown",
      "metadata": {
        "id": "FGmS80CT8aCw"
      },
      "source": [
        "## Instructions\n",
        "\n",
        "Anywhere you see a **???** in the code below, fill in in with the correct code."
      ]
    },
    {
      "cell_type": "markdown",
      "source": [],
      "metadata": {
        "id": "1SfUjFoTCgjH"
      }
    },
    {
      "cell_type": "markdown",
      "metadata": {
        "id": "-MGvs0jJ0JgA"
      },
      "source": [
        "# Enable GPU acceleration\n",
        "\n",
        "Open to the Edit menu and select *Notebook settings* and then select *GPU* under hardware accelerator.\n",
        "\n",
        "Change the line below to ``device = 'cpu'`` to run on the CPU instead."
      ]
    },
    {
      "cell_type": "code",
      "metadata": {
        "id": "eiSDmqiA2es2"
      },
      "source": [
        "# make sure to enable GPU acceleration!\n",
        "device = 'cuda'"
      ],
      "execution_count": null,
      "outputs": []
    },
    {
      "cell_type": "markdown",
      "metadata": {
        "id": "Ywspo1LiklkS"
      },
      "source": [
        "# Import packages\n",
        "\n",
        "Find the PyTorch docs at https://pytorch.org/docs/stable/index.html \n",
        "\n",
        "Tutorials: https://pytorch.org/tutorials/"
      ]
    },
    {
      "cell_type": "code",
      "metadata": {
        "id": "V8TdKha5hoCs"
      },
      "source": [
        "import numpy as np\n",
        "import matplotlib.pyplot as plt\n",
        "\n",
        "import torch\n",
        "import torch.nn.functional as F\n",
        "import torch.nn as nn\n",
        "import torch.optim as optim\n",
        "import torchvision.transforms as transforms\n",
        "\n",
        "from torch.utils.data import DataLoader\n",
        "from torchvision.datasets import MNIST\n",
        "\n",
        "\n",
        "torch.backends.cudnn.deterministic = True\n",
        "torch.backends.cudnn.benchmark = False"
      ],
      "execution_count": null,
      "outputs": []
    },
    {
      "cell_type": "code",
      "metadata": {
        "id": "9bexQC8PaL9w"
      },
      "source": [
        "# Set random seed for reproducability\n",
        "torch.manual_seed(271828)\n",
        "np.random.seed(271728)"
      ],
      "execution_count": null,
      "outputs": []
    },
    {
      "cell_type": "markdown",
      "metadata": {
        "id": "mTq9KUW_7dct"
      },
      "source": [
        "# Specify a model architecture\n",
        "\n",
        "We will use a simple CNN with two conv layers, one pooling layer, two fully connected, and some dropout.\n",
        "\n",
        "![Model Architecture](http://www.eeng.dcu.ie/~mcguinne/media/cnn.png)"
      ]
    },
    {
      "cell_type": "code",
      "metadata": {
        "id": "KAaUNorqjKO_"
      },
      "source": [
        "class SimpleCNN(nn.Module):\n",
        "\n",
        "    def __init__(self, num_channels=1, num_classes=10):\n",
        "        super(SimpleCNN, self).__init__()\n",
        "\n",
        "        # create the first convolution layer (bottom of the diagram)\n",
        "        self.conv1 = nn.Conv2d(num_channels, 32, 3, stride=1, padding=1)\n",
        "\n",
        "        # create the second convolution layer\n",
        "        self.conv2 = nn.Conv2d(32, 64, 3, stride=1, padding=1)\n",
        "\n",
        "        # create the 2x2 max pooling layer\n",
        "        self.pool1 = nn.MaxPool2d(2)\n",
        "\n",
        "        # create the dropout operation with p = 0.25\n",
        "        self.drop1 = nn.Dropout(0.25)\n",
        "\n",
        "        # create a fully connected layer mapping the output of the pooling layer to 128 dimensions\n",
        "        self.fc1 = nn.Linear(14*14*64, 128)\n",
        "\n",
        "        # create the second dropout operation with p = 0.5\n",
        "        self.drop2 = nn.Dropout(0.5)\n",
        "\n",
        "        # create the final fully connected layer mapping 128 dimensions to 10 classes\n",
        "        self.fc2 = nn.Linear(128, num_classes)\n",
        "        \n",
        "    def forward(self, X):\n",
        "\n",
        "        # apply conv1 and a relu\n",
        "        X = F.relu(self.conv1(X))\n",
        "\n",
        "        # apply conv2 and a relu\n",
        "        X = F.relu(self.conv2(X))\n",
        "\n",
        "        # apply the pooling layer and dropout with p=0.25\n",
        "        X = self.pool1(X)\n",
        "        X = self.drop1(X)\n",
        "\n",
        "        # flatten the spatial extents\n",
        "        X = X.reshape(-1, 14*14*64)\n",
        "\n",
        "        # apply the first fully connected layer and a relu\n",
        "        X = F.relu(self.fc1(X))\n",
        "\n",
        "        # apply dropout with p = 0.5\n",
        "        X = self.drop2(X)\n",
        "\n",
        "        # apply the final fully connected layer\n",
        "        X = self.fc2(X)\n",
        "\n",
        "        # return the logits (pre-softmax activations)\n",
        "        return X  \n"
      ],
      "execution_count": null,
      "outputs": []
    },
    {
      "cell_type": "markdown",
      "metadata": {
        "id": "UrynDn0t7rLY"
      },
      "source": [
        "# Load the datasets\n",
        "\n",
        "We also need to specify a **transform** here to convert images to torch tensors.\n",
        "\n",
        "I'm adding a **normalization** transform here too so that the images have mean zero and unit variance. This is optional. For some problems (models/datasets) proper normalization is important for performance. For others (e.g. models with batch normalization early on), the importance of normalization is less.\n",
        "\n",
        "PyTorch comes with a built-in dataset class for the MNIST digit classification task in the (optional) ``torchvision`` package. It also has built-in for other common datasets and tasks like CIFAR-10 and ImageNet. See: https://pytorch.org/docs/stable/torchvision/datasets.html\n"
      ]
    },
    {
      "cell_type": "code",
      "metadata": {
        "id": "oe6InO7QnZca",
        "colab": {
          "base_uri": "https://localhost:8080/"
        },
        "outputId": "80237f7d-c204-4364-efbd-f71fae0c1321"
      },
      "source": [
        "\n",
        "# transform for the training data\n",
        "train_transform = transforms.Compose([\n",
        "    transforms.ToTensor(),\n",
        "    transforms.Normalize([0.1307], [0.3081])\n",
        "])\n",
        "\n",
        "# use the same transform for the validation data\n",
        "valid_transform = train_transform\n",
        "\n",
        "# load datasets, downloading if needed\n",
        "train_set = MNIST('./data/mnist', train=True, download=True, \n",
        "                  transform=train_transform)\n",
        "valid_set = MNIST('./data/mnist', train=False, download=True, \n",
        "                  transform=valid_transform)"
      ],
      "execution_count": null,
      "outputs": [
        {
          "output_type": "stream",
          "name": "stdout",
          "text": [
            "Downloading http://yann.lecun.com/exdb/mnist/train-images-idx3-ubyte.gz\n",
            "Downloading http://yann.lecun.com/exdb/mnist/train-images-idx3-ubyte.gz to ./data/mnist/MNIST/raw/train-images-idx3-ubyte.gz\n"
          ]
        },
        {
          "output_type": "stream",
          "name": "stderr",
          "text": [
            "100%|██████████| 9912422/9912422 [00:00<00:00, 362078913.51it/s]"
          ]
        },
        {
          "output_type": "stream",
          "name": "stdout",
          "text": [
            "Extracting ./data/mnist/MNIST/raw/train-images-idx3-ubyte.gz to ./data/mnist/MNIST/raw\n"
          ]
        },
        {
          "output_type": "stream",
          "name": "stderr",
          "text": [
            "\n"
          ]
        },
        {
          "output_type": "stream",
          "name": "stdout",
          "text": [
            "\n",
            "Downloading http://yann.lecun.com/exdb/mnist/train-labels-idx1-ubyte.gz\n",
            "Downloading http://yann.lecun.com/exdb/mnist/train-labels-idx1-ubyte.gz to ./data/mnist/MNIST/raw/train-labels-idx1-ubyte.gz\n"
          ]
        },
        {
          "output_type": "stream",
          "name": "stderr",
          "text": [
            "100%|██████████| 28881/28881 [00:00<00:00, 38309833.59it/s]\n"
          ]
        },
        {
          "output_type": "stream",
          "name": "stdout",
          "text": [
            "Extracting ./data/mnist/MNIST/raw/train-labels-idx1-ubyte.gz to ./data/mnist/MNIST/raw\n",
            "\n",
            "Downloading http://yann.lecun.com/exdb/mnist/t10k-images-idx3-ubyte.gz\n",
            "Downloading http://yann.lecun.com/exdb/mnist/t10k-images-idx3-ubyte.gz to ./data/mnist/MNIST/raw/t10k-images-idx3-ubyte.gz\n"
          ]
        },
        {
          "output_type": "stream",
          "name": "stderr",
          "text": [
            "100%|██████████| 1648877/1648877 [00:00<00:00, 145603844.30it/s]\n"
          ]
        },
        {
          "output_type": "stream",
          "name": "stdout",
          "text": [
            "Extracting ./data/mnist/MNIST/raw/t10k-images-idx3-ubyte.gz to ./data/mnist/MNIST/raw\n",
            "\n",
            "Downloading http://yann.lecun.com/exdb/mnist/t10k-labels-idx1-ubyte.gz\n",
            "Downloading http://yann.lecun.com/exdb/mnist/t10k-labels-idx1-ubyte.gz to ./data/mnist/MNIST/raw/t10k-labels-idx1-ubyte.gz\n"
          ]
        },
        {
          "output_type": "stream",
          "name": "stderr",
          "text": [
            "100%|██████████| 4542/4542 [00:00<00:00, 16769831.66it/s]\n"
          ]
        },
        {
          "output_type": "stream",
          "name": "stdout",
          "text": [
            "Extracting ./data/mnist/MNIST/raw/t10k-labels-idx1-ubyte.gz to ./data/mnist/MNIST/raw\n",
            "\n"
          ]
        }
      ]
    },
    {
      "cell_type": "code",
      "metadata": {
        "id": "6Sl9tT_Jnym0",
        "colab": {
          "base_uri": "https://localhost:8080/"
        },
        "outputId": "8ad922ac-8b35-4eae-dca9-cae89e6dd484"
      },
      "source": [
        "print(f'train set is', ' x '.join(str(x) for x in train_set.data.shape))\n",
        "print(f'valid set is', ' x '.join(str(x) for x in valid_set.data.shape))"
      ],
      "execution_count": null,
      "outputs": [
        {
          "output_type": "stream",
          "name": "stdout",
          "text": [
            "train set is 60000 x 28 x 28\n",
            "valid set is 10000 x 28 x 28\n"
          ]
        }
      ]
    },
    {
      "cell_type": "markdown",
      "metadata": {
        "id": "G3zD2yzfU3dC"
      },
      "source": [
        "## Some notes about the training data\n",
        "\n",
        "There are two subsets of the data being used here:\n",
        "\n",
        "- **Training data** Data that is used to optimize model parameters\n",
        "- **Validation data** Data that is used for model selection (choosing hyperparameters).\n",
        "\n",
        "The data that we test on during training to monitor progress is validation data, since it can be used to tune the model architecture (number of layers, etc) and other hyperparameters.\n",
        "\n",
        "Usually, we would keep another separate **test set** for testing the final model in order to get an unbiased estimate of *out of sample* accuracy. Unfortunately, MNIST doesn't have a separate test set and it is common practice on this task to use the validation set both for validation and test. \n",
        "\n",
        "**Warning**: This is considered BAD PRACTICE in most situations!\n"
      ]
    },
    {
      "cell_type": "markdown",
      "metadata": {
        "id": "9NDg-mJ23kg5"
      },
      "source": [
        "# Preview the data\n",
        "\n",
        "Let's look at a sample of the training data. \n",
        "\n",
        "Here we'll use some indexing tricks (reshaping and permuting axes) to put the first 64 digits in the dataset into a grid."
      ]
    },
    {
      "cell_type": "code",
      "metadata": {
        "id": "x0uIuozf57GB",
        "colab": {
          "base_uri": "https://localhost:8080/",
          "height": 864
        },
        "outputId": "5e9337f9-8ea2-4bbb-cfd5-0f2910eb40a8"
      },
      "source": [
        "# grab the first 64 samples from the training set\n",
        "sample = train_set.data[:64]\n",
        "\n",
        "# sample shape is (64, 28, 28), but we would like a grid of 8x8 images, each of size 28x28.\n",
        "# this would mean an image with width and height of 8*28. How do we go from a (64, 28, 28)\n",
        "# image to one of size (8*27, 8*28)?\n",
        "\n",
        "# start by splitting the first dimension (64) int 8 x 8\n",
        "sample = sample.reshape(8, 8, 28, 28)\n",
        "\n",
        "# the shape is now (8, 8, 28, 28). Next, move the second dimension to the third position\n",
        "sample = sample.permute(0, 2, 1, 3)\n",
        "\n",
        "# the shape is now (8, 28, 8, 28). Finally, collapse the first-second and third-forth\n",
        "# dimensions into one.\n",
        "sample = sample.reshape(8*28, 8*28)\n",
        "\n",
        "# Voila! the shape is (8*28, 8*28). Note that we can't just reshape to this shape immediately,\n",
        "# because the dimension permute in step two above is also needed.\n",
        "\n",
        "# Show the images\n",
        "plt.figure(figsize=(10,10))\n",
        "plt.imshow(sample)\n",
        "plt.axis('off')\n",
        "plt.title('First 64 MNIST digits in the training set')\n",
        "plt.gray()\n",
        "plt.show()\n",
        "\n",
        "print('Labels:', train_set.targets[:64].numpy())"
      ],
      "execution_count": null,
      "outputs": [
        {
          "output_type": "display_data",
          "data": {
            "text/plain": [
              "<Figure size 1000x1000 with 1 Axes>"
            ],
            "image/png": "[encoded data removed]"
          },
          "metadata": {}
        },
        {
          "output_type": "stream",
          "name": "stdout",
          "text": [
            "Labels: [5 0 4 1 9 2 1 3 1 4 3 5 3 6 1 7 2 8 6 9 4 0 9 1 1 2 4 3 2 7 3 8 6 9 0 5 6\n",
            " 0 7 6 1 8 7 9 3 9 8 5 9 3 3 0 7 4 9 8 0 9 4 1 4 4 6 0]\n"
          ]
        }
      ]
    },
    {
      "cell_type": "markdown",
      "metadata": {
        "id": "IdExkrRS43Fo"
      },
      "source": [
        "# Setup the data loaders\n",
        "\n",
        "PyTorch provides a [DataLoader](https://pytorch.org/docs/stable/data.html#torch.utils.data.DataLoader) class in `torch.utils.data` that can be used to manage loading data from datasets using multiple worker threads and packaging data into datasets. It also provides data **shuffling** and **sampling** strategies.\n",
        "\n",
        "Having multiple threads to load the data improve the performance when training larger models on large datasets since the CPU threads can be busy loading and transforming data while the GPU is doing forward and backward propagation.\n",
        "\n",
        "\n",
        "**Note**: The `Dataset` and `DataLoader` classes are not mandatory in PyTorch; you can write your own data loading mechanisms. "
      ]
    },
    {
      "cell_type": "code",
      "metadata": {
        "id": "PIftYkluoDbF",
        "colab": {
          "base_uri": "https://localhost:8080/"
        },
        "outputId": "f168d23b-9763-473f-a70c-f4a968036647"
      },
      "source": [
        "train_loader = DataLoader(train_set, batch_size=256, num_workers=0, shuffle=True)\n",
        "\n",
        "# create a similar data loader for the validation set, but turn off shuffle and make \n",
        "# the batch size 512\n",
        "#valid_loader = ???\n",
        "DataLoader(valid_set, batch_size=512, num_workers=0, shuffle=False)"
      ],
      "execution_count": null,
      "outputs": [
        {
          "output_type": "execute_result",
          "data": {
            "text/plain": [
              "<torch.utils.data.dataloader.DataLoader at 0x7fca028b9bb0>"
            ]
          },
          "metadata": {},
          "execution_count": 9
        }
      ]
    },
    {
      "cell_type": "markdown",
      "metadata": {
        "id": "fZlNXgHG6q-g"
      },
      "source": [
        "# Instantiate the model\n",
        "\n",
        "Create an instance of the model and move it (memory and operations) to the CUDA device."
      ]
    },
    {
      "cell_type": "code",
      "metadata": {
        "id": "eU_kiKpypYu0",
        "colab": {
          "base_uri": "https://localhost:8080/"
        },
        "outputId": "a9a02a1d-97c8-45cd-d49e-cf8d02fe9688"
      },
      "source": [
        "model = SimpleCNN()\n",
        "model.to(device)"
      ],
      "execution_count": null,
      "outputs": [
        {
          "output_type": "execute_result",
          "data": {
            "text/plain": [
              "SimpleCNN(\n",
              "  (conv1): Conv2d(1, 32, kernel_size=(3, 3), stride=(1, 1), padding=(1, 1))\n",
              "  (conv2): Conv2d(32, 64, kernel_size=(3, 3), stride=(1, 1), padding=(1, 1))\n",
              "  (pool1): MaxPool2d(kernel_size=2, stride=2, padding=0, dilation=1, ceil_mode=False)\n",
              "  (drop1): Dropout(p=0.25, inplace=False)\n",
              "  (fc1): Linear(in_features=12544, out_features=128, bias=True)\n",
              "  (drop2): Dropout(p=0.5, inplace=False)\n",
              "  (fc2): Linear(in_features=128, out_features=10, bias=True)\n",
              ")"
            ]
          },
          "metadata": {},
          "execution_count": 10
        }
      ]
    },
    {
      "cell_type": "markdown",
      "metadata": {
        "id": "d7j7Ug2cwUQM"
      },
      "source": [
        "Let's count the total number of parameters in our model."
      ]
    },
    {
      "cell_type": "code",
      "metadata": {
        "id": "wn-3_0WvRRdR",
        "colab": {
          "base_uri": "https://localhost:8080/"
        },
        "outputId": "3af1843f-a858-4f5b-ceda-4a286dc46fbc"
      },
      "source": [
        "def count_parameters(model):\n",
        "    total = 0\n",
        "    for p in model.parameters():\n",
        "        \n",
        "        # compute the total parameters in the layer\n",
        "        # which is equal to the product of the dimensions\n",
        "        # in p.shape (np.prod may be helpful)\n",
        "        #layer_count = ???\n",
        "        layer_count = np.prod(p.shape)\n",
        "\n",
        "        total += layer_count\n",
        "    return total\n",
        "\n",
        "\n",
        "print(f'The model has {count_parameters(model)} parameters')"
      ],
      "execution_count": null,
      "outputs": [
        {
          "output_type": "stream",
          "name": "stdout",
          "text": [
            "The model has 1625866 parameters\n"
          ]
        }
      ]
    },
    {
      "cell_type": "markdown",
      "metadata": {
        "id": "vPrYMlDSEljV"
      },
      "source": [
        "# Train the model\n",
        "\n",
        "We're almost ready to train the model!\n",
        "\n",
        "Each pass through the training loop is called an *epoch* (an epoch is when every training example has been seen once). \n",
        "\n",
        "It's a good idea to save a snapshot (or *checkpoint*) of the model and the optimizer after every epoch. Let's setup some helpers to do this"
      ]
    },
    {
      "cell_type": "code",
      "metadata": {
        "id": "QYk-zSLJRqx9"
      },
      "source": [
        "# we will save checkpoints to the checkpoints folder. Create it.\n",
        "!mkdir -p checkpoints"
      ],
      "execution_count": null,
      "outputs": []
    },
    {
      "cell_type": "code",
      "metadata": {
        "id": "Vpx7HCnXRKoM"
      },
      "source": [
        "def save_checkpoint(optimizer, model, epoch, filename):\n",
        "    checkpoint_dict = {\n",
        "        'optimizer': optimizer.state_dict(),\n",
        "        'model': model.state_dict(),\n",
        "        'epoch': epoch\n",
        "    }\n",
        "    torch.save(checkpoint_dict, filename)\n",
        "\n",
        "\n",
        "def load_checkpoint(optimizer, model, filename):\n",
        "    checkpoint_dict = torch.load(filename)\n",
        "    epoch = checkpoint_dict['epoch']\n",
        "    model.load_state_dict(checkpoint_dict['model'])\n",
        "    if optimizer is not None:\n",
        "        optimizer.load_state_dict(checkpoint_dict['optimizer'])\n",
        "    return epoch"
      ],
      "execution_count": null,
      "outputs": []
    },
    {
      "cell_type": "markdown",
      "metadata": {
        "id": "CYLgPSzbS5KD"
      },
      "source": [
        "Let's code up the training loop as a function. There are two parts to the loop:\n",
        "- **Train phase**: where batches of data are loaded from the training set and the model parameters are optimized using backpropagation to compute gradients.\n",
        "- **Validation phase**: where batches of data are loaded from the validation set and out of sample error is estimated using this data."
      ]
    },
    {
      "cell_type": "code",
      "metadata": {
        "id": "9QAuxIQvoSDV"
      },
      "source": [
        "# create the criterion to optimize (the loss function). This is a multi-class classification \n",
        "# problem, so categorical cross entropy is an appropriate loss.\n",
        "criterion = nn.CrossEntropyLoss()\n",
        "\n",
        "# create an SGD optimizer with learning rate 0.01, momentum 0.9, and nesterov momentum turned on\n",
        "optimizer = optim.SGD(model.parameters(), lr=0.01, momentum=0.9, nesterov=True)\n",
        "\n",
        "\n",
        "def train_for_epoch():\n",
        "\n",
        "    # put model in train mode\n",
        "    model.train()\n",
        "\n",
        "    # keep track of the training losses during the epoch\n",
        "    train_losses = []\n",
        "\n",
        "    for batch, targets in train_loader:\n",
        "        # Move the training data to the GPU\n",
        "        batch = batch.to(device)\n",
        "        #targets = ???\n",
        "        targets = targets.to(device)\n",
        "\n",
        "\n",
        "        # clear previous gradient computation\n",
        "        optimizer.zero_grad()\n",
        "\n",
        "        # forward propagation\n",
        "        predictions = model(batch)\n",
        "\n",
        "        # calculate the loss\n",
        "        loss = criterion(predictions, targets)\n",
        "\n",
        "        # backpropagate to compute gradients\n",
        "        loss.backward()\n",
        "\n",
        "        # update model weights\n",
        "        optimizer.step()\n",
        "\n",
        "        # update average loss\n",
        "        train_losses.append(loss.item())\n",
        "\n",
        "    # calculate average training loss\n",
        "    #train_loss = ???\n",
        "    train_loss = np.mean(train_losses)\n",
        "\n",
        "    return train_loss\n",
        "\n",
        "\n",
        "def validate():\n",
        "\n",
        "    # put model in evaluation mode\n",
        "    model.eval()\n",
        "\n",
        "    # keep track of losses and predictions\n",
        "    valid_losses = []\n",
        "    y_pred = []\n",
        "\n",
        "    # We don't need gradients for validation, so wrap in \n",
        "    # no_grad to save memory\n",
        "    with torch.no_grad():\n",
        "\n",
        "        for batch, targets in valid_loader:\n",
        "\n",
        "            # Move the training batch to the GPU\n",
        "            batch = batch.to(device)\n",
        "            targets = targets.to(device)\n",
        "\n",
        "            # forward propagation\n",
        "            #predictions = ???\n",
        "            predictions = model(batch)\n",
        "            predictions = F.softmax(predictions, dim=1)\n",
        "\n",
        "            # calculate the loss\n",
        "            #loss = ???\n",
        "            loss = criterion(predictions, targets)\n",
        "\n",
        "            # update running loss value\n",
        "            valid_losses.append(loss.item())\n",
        "\n",
        "            # save predictions\n",
        "            y_pred.extend(predictions.argmax(dim=1).cpu().numpy())\n",
        "\n",
        "    # compute the average validation loss\n",
        "    valid_loss = np.mean(valid_losses)\n",
        "\n",
        "    # Collect predictions into y_pred and ground truth into y_true\n",
        "    y_pred = np.array(y_pred, dtype=np.float32)\n",
        "    y_true = np.array(valid_set.targets, dtype=np.float32)\n",
        "\n",
        "    # Calculate accuracy as the average number of times y_true == y_pred\n",
        "    #accuracy = ???\n",
        "    accuracy = (y_pred == y_true).mean()\n",
        "\n",
        "    return valid_loss, accuracy\n",
        "\n",
        "\n",
        "def train(first_epoch, num_epochs):\n",
        "    \n",
        "    train_losses, valid_losses = [],  []\n",
        "\n",
        "    for epoch in range(first_epoch, first_epoch + num_epochs):\n",
        "\n",
        "        # training phase\n",
        "        train_loss = train_for_epoch()\n",
        "\n",
        "        # validarion phase\n",
        "        valid_loss, valid_acc = validate()        \n",
        "\n",
        "        print(f'[{epoch:03d}] train loss: {train_loss:04f}  '\n",
        "              f'val loss: {valid_loss:04f}  '\n",
        "              f'val acc: {valid_acc*100:.4f}%')\n",
        "        \n",
        "        train_losses.append(train_loss)\n",
        "        valid_losses.append(valid_loss)\n",
        "\n",
        "        # Save a checkpoint\n",
        "        checkpoint_filename = f'checkpoints/mnist-{epoch:03d}.pkl'\n",
        "        save_checkpoint(optimizer, model, epoch, checkpoint_filename)\n",
        "    \n",
        "    return train_losses, valid_losses"
      ],
      "execution_count": null,
      "outputs": []
    },
    {
      "cell_type": "markdown",
      "metadata": {
        "id": "vVRUaMzEwLH3"
      },
      "source": [
        "Train the model for 10 epochs"
      ]
    },
    {
      "cell_type": "code",
      "metadata": {
        "id": "VDdFK6RDSZ1X",
        "colab": {
          "base_uri": "https://localhost:8080/"
        },
        "outputId": "8bdeda76-c5dc-48dd-ba6b-b56541f06371"
      },
      "source": [
        "valid_loader = DataLoader(valid_set, batch_size=512, num_workers=0, shuffle=False)\n",
        "train_losses, valid_losses = train(1, 10)"
      ],
      "execution_count": null,
      "outputs": [
        {
          "output_type": "stream",
          "name": "stdout",
          "text": [
            "[001] train loss: 0.086280  val loss: 1.481204  val acc: 98.5200%\n",
            "[002] train loss: 0.071830  val loss: 1.478915  val acc: 98.6800%\n",
            "[003] train loss: 0.067934  val loss: 1.477477  val acc: 98.7900%\n",
            "[004] train loss: 0.058998  val loss: 1.477069  val acc: 98.8900%\n",
            "[005] train loss: 0.053015  val loss: 1.475958  val acc: 98.8700%\n",
            "[006] train loss: 0.051446  val loss: 1.475537  val acc: 98.9900%\n",
            "[007] train loss: 0.047298  val loss: 1.474559  val acc: 98.9300%\n",
            "[008] train loss: 0.042868  val loss: 1.474032  val acc: 99.0300%\n",
            "[009] train loss: 0.040057  val loss: 1.473731  val acc: 98.9900%\n",
            "[010] train loss: 0.037622  val loss: 1.473689  val acc: 99.0600%\n"
          ]
        }
      ]
    },
    {
      "cell_type": "markdown",
      "metadata": {
        "id": "Urau1xFIKtFY"
      },
      "source": [
        "# Plot the learning curves\n",
        "\n",
        "Here we plot the learning curves after training. Note that you can also use [Tensorboard](https://www.tensorflow.org/guide/summaries_and_tensorboard) with PyTorch in Google Colab. We'll see how to do this in a future lab\n"
      ]
    },
    {
      "cell_type": "code",
      "metadata": {
        "id": "dzwmuvqrzXpE",
        "colab": {
          "base_uri": "https://localhost:8080/",
          "height": 564
        },
        "outputId": "01e6d041-6e5c-46ba-95c4-1d1f984938f7"
      },
      "source": [
        "epochs = range(1, len(train_losses) + 1)\n",
        "\n",
        "plt.figure(figsize=(10,6))\n",
        "plt.plot(epochs, train_losses, '-o', label='Training loss')\n",
        "plt.plot(epochs, valid_losses, '-o', label='Validation loss')\n",
        "plt.legend()\n",
        "plt.title('Learning curves')\n",
        "plt.xlabel('Epoch')\n",
        "plt.ylabel('Loss')\n",
        "plt.xticks(epochs)\n",
        "plt.show()"
      ],
      "execution_count": null,
      "outputs": [
        {
          "output_type": "display_data",
          "data": {
            "text/plain": [
              "<Figure size 1000x600 with 1 Axes>"
            ],
            "image/png": "[encoded data removed]"
          },
          "metadata": {}
        }
      ]
    },
    {
      "cell_type": "markdown",
      "metadata": {
        "id": "u1rSJSroPYaL"
      },
      "source": [
        "# Error analysis\n",
        "\n",
        "Here we will take a look at the validation samples that the model got wrong. This is often a good idea when trying to improve a models, since it gives you some intuition about the kinds of examples the model finds difficult, which can lead to insights on how to improve models."
      ]
    },
    {
      "cell_type": "markdown",
      "metadata": {
        "id": "zg0yyhz-t77M"
      },
      "source": [
        "We start by defining a predict function which takes a data loader and produces predictions for all samples. The predictions here are a categorical distribution over the 10 different digits, which means that each prediction has dimension 10. We can recover the label for which the model is most confident by taking an $\\arg\\max$ over the predicted distribution."
      ]
    },
    {
      "cell_type": "code",
      "metadata": {
        "id": "vtKKn4WdY_yY"
      },
      "source": [
        "def predict(data_loader):\n",
        "    model.eval()\n",
        "\n",
        "    # save the predictions in this list\n",
        "    y_pred = []\n",
        "\n",
        "    # no gradient needed\n",
        "    with torch.no_grad():\n",
        "\n",
        "        # go over each batch in the loader. We can ignore the targets here\n",
        "        for batch, _ in data_loader:\n",
        "\n",
        "            # Move batch to the GPU\n",
        "            batch = batch.to(device)\n",
        "\n",
        "            # predict probabilities of each class\n",
        "            predictions = model(batch)\n",
        "\n",
        "            # apply a softmax to the predictions\n",
        "            predictions = F.softmax(predictions, dim=1)\n",
        "            \n",
        "            # move to the cpu and convert to numpy\n",
        "            predictions = predictions.cpu().numpy()\n",
        "\n",
        "            # save\n",
        "            y_pred.append(predictions)\n",
        "    \n",
        "    # stack predictions into a (num_samples, 10) array\n",
        "    y_pred = np.vstack(y_pred)\n",
        "    return y_pred\n"
      ],
      "execution_count": null,
      "outputs": []
    },
    {
      "cell_type": "code",
      "metadata": {
        "id": "yJgdBy6gqDKC"
      },
      "source": [
        "# compute predictions on the validation set\n",
        "#y_pred = ???\n",
        "y_pred = predict(valid_loader)\n",
        "# find the argmax of each of the predictions\n",
        "y_pred = y_pred.argmax(axis=1)\n",
        "\n",
        "# get the true labels and convert to numpy\n",
        "y_true = np.array(valid_set.targets)"
      ],
      "execution_count": null,
      "outputs": []
    },
    {
      "cell_type": "code",
      "metadata": {
        "id": "87r7l8ewG6v-",
        "colab": {
          "base_uri": "https://localhost:8080/"
        },
        "outputId": "9c03eb88-2451-4897-8adb-043b8e0cc5e2"
      },
      "source": [
        "# calculate the number of errors\n",
        "num_errors = np.sum(y_true != y_pred)\n",
        "print(f'Validation errors {num_errors} (out of {len(valid_set)})')"
      ],
      "execution_count": null,
      "outputs": [
        {
          "output_type": "stream",
          "name": "stdout",
          "text": [
            "Validation errors 94 (out of 10000)\n"
          ]
        }
      ]
    },
    {
      "cell_type": "markdown",
      "metadata": {
        "id": "eRQ__4OYu-x0"
      },
      "source": [
        "Find examples of mistakes in the valid set"
      ]
    },
    {
      "cell_type": "code",
      "metadata": {
        "id": "Xx9w2Mh9Ldjx",
        "colab": {
          "base_uri": "https://localhost:8080/"
        },
        "outputId": "ef14f82c-226d-45a2-84f2-af0670b326d1"
      },
      "source": [
        "error_indicator = y_pred != y_true\n",
        "error_examples = valid_set.data[error_indicator, :, :]\n",
        "print(error_examples.shape)"
      ],
      "execution_count": null,
      "outputs": [
        {
          "output_type": "stream",
          "name": "stdout",
          "text": [
            "torch.Size([94, 28, 28])\n"
          ]
        }
      ]
    },
    {
      "cell_type": "markdown",
      "metadata": {
        "id": "uTsT87Xmu5pz"
      },
      "source": [
        "Show 64 of the mistakes the model has made"
      ]
    },
    {
      "cell_type": "code",
      "metadata": {
        "id": "QNkEJp62OEZC",
        "colab": {
          "base_uri": "https://localhost:8080/",
          "height": 898
        },
        "outputId": "ad047b1b-8c03-4789-ae0d-1856c1873dc2"
      },
      "source": [
        "plt.figure(figsize=(10,10))\n",
        "\n",
        "sample = error_examples[:64]\n",
        "# shape (64, 28, 28)\n",
        "sample = sample.reshape(8, 8, 28, 28)\n",
        "# shape (8, 8, 28, 28)\n",
        "sample = sample.permute(0, 2, 1, 3)\n",
        "# shape (8, 28, 8, 28)\n",
        "sample = sample.reshape(8*28, 8*28)\n",
        "# shape (8*28, 8*28)\n",
        "plt.imshow(sample)\n",
        "plt.xticks([])\n",
        "plt.yticks([])\n",
        "plt.grid(False)\n",
        "plt.title('Error analysis (validation set)')\n",
        "plt.show()\n",
        "\n",
        "print('y_true:', y_true[error_indicator][:64])\n",
        "print('y_pred:', y_pred[error_indicator][:64])"
      ],
      "execution_count": null,
      "outputs": [
        {
          "output_type": "display_data",
          "data": {
            "text/plain": [
              "<Figure size 1000x1000 with 1 Axes>"
            ],
            "image/png": "[encoded data removed]"
          },
          "metadata": {}
        },
        {
          "output_type": "stream",
          "name": "stdout",
          "text": [
            "y_true: [6 8 5 4 8 8 6 6 7 6 4 6 7 9 4 9 7 5 7 8 4 0 5 9 8 9 5 5 4 7 2 3 6 9 4 6 9\n",
            " 2 2 5 6 8 3 3 9 9 8 6 9 6 5 4 7 4 7 1 4 7 0 2 7 2 5 6]\n",
            "y_pred: [0 2 8 9 7 9 0 5 2 8 6 5 2 4 9 5 1 3 9 7 6 6 6 5 3 4 3 6 8 9 0 2 0 8 9 1 1\n",
            " 0 4 3 1 0 8 2 5 7 9 0 1 4 0 9 2 6 8 3 6 9 2 7 3 8 3 5]\n"
          ]
        }
      ]
    },
    {
      "cell_type": "markdown",
      "metadata": {
        "id": "L3k9cOWWS8en"
      },
      "source": [
        "# Resuming training\n",
        "\n",
        "Let's load up the final model and resume training to see how far we can push up the accuracy."
      ]
    },
    {
      "cell_type": "code",
      "metadata": {
        "id": "vqUkPWZnW9Vi",
        "colab": {
          "base_uri": "https://localhost:8080/"
        },
        "outputId": "af8985e2-5241-463d-995f-52e227b0acf4"
      },
      "source": [
        "ls checkpoints"
      ],
      "execution_count": null,
      "outputs": [
        {
          "output_type": "stream",
          "name": "stdout",
          "text": [
            "mnist-001.pkl  mnist-003.pkl  mnist-005.pkl  mnist-007.pkl  mnist-009.pkl\n",
            "mnist-002.pkl  mnist-004.pkl  mnist-006.pkl  mnist-008.pkl  mnist-010.pkl\n"
          ]
        }
      ]
    },
    {
      "cell_type": "code",
      "metadata": {
        "id": "u9XfbK_wS-3v",
        "colab": {
          "base_uri": "https://localhost:8080/"
        },
        "outputId": "acc042d4-2868-457e-832f-c0cefae1dab6"
      },
      "source": [
        "# Load the checkpoint corresponding to the 10th epoch\n",
        "epoch = 10 #???\n",
        "print('Resuming training from epoch', epoch)\n",
        "\n",
        "# train for 10 more epochs\n",
        "#train_losses, valid_losses = ???\n",
        "train_losses, valid_losses = train(epoch, 10)\n"
      ],
      "execution_count": null,
      "outputs": [
        {
          "output_type": "stream",
          "name": "stdout",
          "text": [
            "Resuming training from epoch 10\n",
            "[010] train loss: 0.036637  val loss: 1.472994  val acc: 99.0300%\n",
            "[011] train loss: 0.035496  val loss: 1.473529  val acc: 99.0500%\n",
            "[012] train loss: 0.033744  val loss: 1.473212  val acc: 99.0300%\n",
            "[013] train loss: 0.030584  val loss: 1.472583  val acc: 99.0400%\n",
            "[014] train loss: 0.030300  val loss: 1.471928  val acc: 99.1400%\n",
            "[015] train loss: 0.027650  val loss: 1.471867  val acc: 99.1100%\n",
            "[016] train loss: 0.026677  val loss: 1.471818  val acc: 99.1400%\n",
            "[017] train loss: 0.026080  val loss: 1.471468  val acc: 99.1200%\n",
            "[018] train loss: 0.024008  val loss: 1.472083  val acc: 99.0100%\n",
            "[019] train loss: 0.023425  val loss: 1.471113  val acc: 99.1800%\n"
          ]
        }
      ]
    },
    {
      "cell_type": "markdown",
      "metadata": {
        "id": "tfRiDrmJ0UDi"
      },
      "source": [
        "Plot the learning curves"
      ]
    },
    {
      "cell_type": "code",
      "metadata": {
        "id": "eVpGyJOkogEV",
        "colab": {
          "base_uri": "https://localhost:8080/",
          "height": 564
        },
        "outputId": "66f80821-a036-4512-9b20-902def017e92"
      },
      "source": [
        "# plot the learning curves\n",
        "epochs = range(epoch+1, len(train_losses) + epoch + 1)\n",
        "\n",
        "# see previous code for how to do this\n",
        "plt.figure(figsize=(10,6))\n",
        "\n",
        "plt.plot(epochs, train_losses, label='Training loss')\n",
        "plt.plot(epochs, valid_losses, label='Validation loss')\n",
        "plt.xlabel('Epochs')\n",
        "plt.ylabel('Loss')\n",
        "plt.legend()\n",
        "plt.title('Learning curves')\n",
        "plt.show()"
      ],
      "execution_count": null,
      "outputs": [
        {
          "output_type": "display_data",
          "data": {
            "text/plain": [
              "<Figure size 1000x600 with 1 Axes>"
            ],
            "image/png": "[encoded data removed]"
          },
          "metadata": {}
        }
      ]
    },
    {
      "cell_type": "markdown",
      "metadata": {
        "id": "8z4N1dub0cNm"
      },
      "source": [
        "Finally, load the model with the minimum validation error and do an error analysis (show the examples it gets wrong)\n",
        "\n",
        "\n",
        "\n",
        "\n"
      ]
    },
    {
      "cell_type": "code",
      "metadata": {
        "id": "fwWQeGG_siCI",
        "colab": {
          "base_uri": "https://localhost:8080/",
          "height": 235
        },
        "outputId": "99c76d49-208c-4ba5-8ba6-15c29f58e8d2"
      },
      "source": [
        "#???\n",
        "# find epoch with minimum validation loss\n",
        "min_valid_loss_epoch = np.argmin(valid_losses) + 1\n",
        "print(f'Minimum validation loss at epoch {min_valid_loss_epoch}')\n",
        "\n",
        "# load checkpoint corresponding to minimum validation loss\n",
        "model.load_state_dict(torch.load(f'cifar10_model_epoch{min_valid_loss_epoch}.pt'))\n",
        "\n",
        "# make predictions on validation set\n",
        "y_pred = predict(valid_loader)\n",
        "\n",
        "# find examples where model is wrong\n",
        "error_indicator = y_pred.argmax(axis=1) != y_true\n",
        "\n",
        "# plot error analysis\n",
        "plot_error_analysis(valid_set, y_true, y_pred, error_indicator)\n"
      ],
      "execution_count": null,
      "outputs": [
        {
          "output_type": "error",
          "ename": "NameError",
          "evalue": "ignored",
          "traceback": [
            "\u001b[0;31m---------------------------------------------------------------------------\u001b[0m",
            "\u001b[0;31mNameError\u001b[0m                                 Traceback (most recent call last)",
            "\u001b[0;32m<ipython-input-1-763e87a5cc51>\u001b[0m in \u001b[0;36m<cell line: 3>\u001b[0;34m()\u001b[0m\n\u001b[1;32m      1\u001b[0m \u001b[0;31m#???\u001b[0m\u001b[0;34m\u001b[0m\u001b[0;34m\u001b[0m\u001b[0m\n\u001b[1;32m      2\u001b[0m \u001b[0;31m# find epoch with minimum validation loss\u001b[0m\u001b[0;34m\u001b[0m\u001b[0;34m\u001b[0m\u001b[0m\n\u001b[0;32m----> 3\u001b[0;31m \u001b[0mmin_valid_loss_epoch\u001b[0m \u001b[0;34m=\u001b[0m \u001b[0mnp\u001b[0m\u001b[0;34m.\u001b[0m\u001b[0margmin\u001b[0m\u001b[0;34m(\u001b[0m\u001b[0mvalid_losses\u001b[0m\u001b[0;34m)\u001b[0m \u001b[0;34m+\u001b[0m \u001b[0;36m1\u001b[0m\u001b[0;34m\u001b[0m\u001b[0;34m\u001b[0m\u001b[0m\n\u001b[0m\u001b[1;32m      4\u001b[0m \u001b[0mprint\u001b[0m\u001b[0;34m(\u001b[0m\u001b[0;34mf'Minimum validation loss at epoch {min_valid_loss_epoch}'\u001b[0m\u001b[0;34m)\u001b[0m\u001b[0;34m\u001b[0m\u001b[0;34m\u001b[0m\u001b[0m\n\u001b[1;32m      5\u001b[0m \u001b[0;34m\u001b[0m\u001b[0m\n",
            "\u001b[0;31mNameError\u001b[0m: name 'np' is not defined"
          ]
        }
      ]
    }
  ]
}
